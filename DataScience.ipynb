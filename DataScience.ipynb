{
 "cells": [
  {
   "cell_type": "code",
   "execution_count": 13,
   "metadata": {},
   "outputs": [
    {
     "name": "stdout",
     "output_type": "stream",
     "text": [
      "The autoreload extension is already loaded. To reload it, use:\n",
      "  %reload_ext autoreload\n"
     ]
    }
   ],
   "source": [
    "# Autoreload Python Modules\n",
    "# https://gist.github.com/deehzee/86ad60d3d2e375013ec710234f88968c\n",
    "%load_ext autoreload\n",
    "%autoreload 2"
   ]
  },
  {
   "cell_type": "markdown",
   "metadata": {},
   "source": [
    "# Data Science in Python\n",
    "\n",
    "Materials from the [Python Data Science Handbook](https://jakevdp.github.io/PythonDataScienceHandbook/index.html)."
   ]
  },
  {
   "cell_type": "markdown",
   "metadata": {},
   "source": [
    "## Numpy Arrays"
   ]
  },
  {
   "cell_type": "code",
   "execution_count": 14,
   "metadata": {},
   "outputs": [
    {
     "data": {
      "text/plain": [
       "array([1, 2, 3, 4, 5, 6, 7, 8, 9])"
      ]
     },
     "execution_count": 14,
     "metadata": {},
     "output_type": "execute_result"
    }
   ],
   "source": [
    "import numpy as np\n",
    "\n",
    "# Create an ndarray\n",
    "a = np.array([1, 2, 3, 4, 5, 6, 7, 8, 9])\n",
    "a"
   ]
  },
  {
   "cell_type": "code",
   "execution_count": 15,
   "metadata": {},
   "outputs": [
    {
     "data": {
      "text/plain": [
       "array([2, 1, 1, 3, 3, 3, 3, 4, 4])"
      ]
     },
     "execution_count": 15,
     "metadata": {},
     "output_type": "execute_result"
    }
   ],
   "source": [
    "# Create an ndarray with random numbers\n",
    "x = np.random.randint(5, size=9)\n",
    "x"
   ]
  },
  {
   "cell_type": "markdown",
   "metadata": {},
   "source": [
    "### Array Slicing\n",
    "\n",
    "`x[start:stop:step]`"
   ]
  },
  {
   "cell_type": "code",
   "execution_count": 16,
   "metadata": {},
   "outputs": [
    {
     "data": {
      "text/plain": [
       "array([2, 1, 1, 3, 3])"
      ]
     },
     "execution_count": 16,
     "metadata": {},
     "output_type": "execute_result"
    }
   ],
   "source": [
    "x[:5]  # first five elements"
   ]
  },
  {
   "cell_type": "code",
   "execution_count": 17,
   "metadata": {},
   "outputs": [
    {
     "data": {
      "text/plain": [
       "array([3, 3, 4, 4])"
      ]
     },
     "execution_count": 17,
     "metadata": {},
     "output_type": "execute_result"
    }
   ],
   "source": [
    "x[5:]  # elements after index 5"
   ]
  },
  {
   "cell_type": "code",
   "execution_count": 18,
   "metadata": {},
   "outputs": [
    {
     "data": {
      "text/plain": [
       "array([3, 3, 3])"
      ]
     },
     "execution_count": 18,
     "metadata": {},
     "output_type": "execute_result"
    }
   ],
   "source": [
    "x[4:7]  # middle sub-array"
   ]
  },
  {
   "cell_type": "code",
   "execution_count": 19,
   "metadata": {},
   "outputs": [
    {
     "data": {
      "text/plain": [
       "array([2, 1, 3, 3, 4])"
      ]
     },
     "execution_count": 19,
     "metadata": {},
     "output_type": "execute_result"
    }
   ],
   "source": [
    "x[::2]  # every other element"
   ]
  },
  {
   "cell_type": "code",
   "execution_count": 20,
   "metadata": {},
   "outputs": [
    {
     "data": {
      "text/plain": [
       "array([1, 3, 3, 4])"
      ]
     },
     "execution_count": 20,
     "metadata": {},
     "output_type": "execute_result"
    }
   ],
   "source": [
    "x[1::2]  # every other element, starting at index 1"
   ]
  },
  {
   "cell_type": "code",
   "execution_count": 21,
   "metadata": {},
   "outputs": [
    {
     "data": {
      "text/plain": [
       "array([4, 4, 3, 3, 3, 3, 1, 1, 2])"
      ]
     },
     "execution_count": 21,
     "metadata": {},
     "output_type": "execute_result"
    }
   ],
   "source": [
    "x[::-1]  # all elements, reversed"
   ]
  },
  {
   "cell_type": "code",
   "execution_count": 22,
   "metadata": {},
   "outputs": [
    {
     "data": {
      "text/plain": [
       "array([3, 3, 1])"
      ]
     },
     "execution_count": 22,
     "metadata": {},
     "output_type": "execute_result"
    }
   ],
   "source": [
    "x[5::-2]  # reversed every other from index 5"
   ]
  },
  {
   "cell_type": "markdown",
   "metadata": {},
   "source": [
    "### Universal Functions"
   ]
  },
  {
   "cell_type": "code",
   "execution_count": 25,
   "metadata": {},
   "outputs": [
    {
     "name": "stdout",
     "output_type": "stream",
     "text": [
      "x     = [0 1 2 3]\n",
      "x + 5 = [5 6 7 8]\n",
      "x - 5 = [-5 -4 -3 -2]\n",
      "x * 2 = [0 2 4 6]\n",
      "x / 2 = [0.  0.5 1.  1.5]\n",
      "x // 2 = [0 0 1 1]\n",
      "-x     =  [ 0 -1 -2 -3]\n",
      "x ** 2 =  [0 1 4 9]\n",
      "x % 2  =  [0 1 0 1]\n"
     ]
    }
   ],
   "source": [
    "x = np.arange(4)\n",
    "print(\"x     =\", x)\n",
    "print(\"x + 5 =\", x + 5)\n",
    "print(\"x - 5 =\", x - 5)\n",
    "print(\"x * 2 =\", x * 2)\n",
    "print(\"x / 2 =\", x / 2)\n",
    "print(\"x // 2 =\", x // 2)  # floor division\n",
    "print(\"-x     = \", -x)\n",
    "print(\"x ** 2 = \", x ** 2)\n",
    "print(\"x % 2  = \", x % 2)"
   ]
  },
  {
   "cell_type": "code",
   "execution_count": 26,
   "metadata": {},
   "outputs": [
    {
     "data": {
      "text/plain": [
       "array([2, 1, 0, 1, 2])"
      ]
     },
     "execution_count": 26,
     "metadata": {},
     "output_type": "execute_result"
    }
   ],
   "source": [
    "x = np.array([-2, -1, 0, 1, 2])\n",
    "abs(x) # absolute value"
   ]
  },
  {
   "cell_type": "markdown",
   "metadata": {},
   "source": [
    "#### For advanced, trigonometric and specialised ufuncs, see [here](https://jakevdp.github.io/PythonDataScienceHandbook/02.03-computation-on-arrays-ufuncs.html#Trigonometric-functions)."
   ]
  },
  {
   "cell_type": "markdown",
   "metadata": {},
   "source": [
    "### Aggregation Functions"
   ]
  },
  {
   "cell_type": "code",
   "execution_count": 41,
   "metadata": {},
   "outputs": [
    {
     "name": "stdout",
     "output_type": "stream",
     "text": [
      "Mean:                179.73809523809524\n",
      "Standard Deviation:  6.931843442745892\n",
      "Minimum:             163\n",
      "Maximum:             193\n",
      "25th percentile:     174.25\n",
      "Median:              182.0\n",
      "75th percentile:     183.0\n"
     ]
    }
   ],
   "source": [
    "x = np.array([189, 170, 189, 163, 183, 171, 185, 168, 173, 183, 173, 173, 175, 178, 183 ,193, 178, 173,\n",
    " 174, 183, 183, 168, 170, 178, 182, 180, 183, 178, 182, 188, 175, 179, 183, 193, 182, 183,\n",
    " 177, 185, 188, 188, 182, 185])\n",
    "\n",
    "print(\"Mean:               \", x.mean())\n",
    "print(\"Standard Deviation: \", x.std())\n",
    "print(\"Minimum:            \", x.min())\n",
    "print(\"Maximum:            \", x.max())\n",
    "print(\"25th percentile:    \", np.percentile(x, 25))\n",
    "print(\"Median:             \", np.median(x))\n",
    "print(\"75th percentile:    \", np.percentile(x, 75))"
   ]
  },
  {
   "cell_type": "code",
   "execution_count": 34,
   "metadata": {},
   "outputs": [],
   "source": [
    "%matplotlib inline\n",
    "import matplotlib.pyplot as plt\n",
    "import seaborn; seaborn.set()  # set plot style"
   ]
  },
  {
   "cell_type": "code",
   "execution_count": 42,
   "metadata": {},
   "outputs": [
    {
     "data": {
      "text/plain": [
       "Text(0,0.5,'number')"
      ]
     },
     "execution_count": 42,
     "metadata": {},
     "output_type": "execute_result"
    },
    {
     "data": {
      "image/png": "[encoded data removed]",
      "text/plain": [
       "<Figure size 432x288 with 1 Axes>"
      ]
     },
     "metadata": {},
     "output_type": "display_data"
    }
   ],
   "source": [
    "plt.hist(x)\n",
    "plt.title('Height Distribution of US Presidents')\n",
    "plt.xlabel('height (cm)')\n",
    "plt.ylabel('number')"
   ]
  },
  {
   "cell_type": "markdown",
   "metadata": {},
   "source": [
    "### Broadcasting\n",
    "\n",
    "See [here](https://jakevdp.github.io/PythonDataScienceHandbook/02.05-computation-on-arrays-broadcasting.html)."
   ]
  },
  {
   "cell_type": "markdown",
   "metadata": {},
   "source": [
    "### Comparison Operators"
   ]
  },
  {
   "cell_type": "code",
   "execution_count": 56,
   "metadata": {},
   "outputs": [],
   "source": [
    "x = np.array([1, 2, 3, 4, 5])"
   ]
  },
  {
   "cell_type": "code",
   "execution_count": 57,
   "metadata": {},
   "outputs": [
    {
     "data": {
      "text/plain": [
       "array([ True,  True, False, False, False])"
      ]
     },
     "execution_count": 57,
     "metadata": {},
     "output_type": "execute_result"
    }
   ],
   "source": [
    "x < 3  # less than"
   ]
  },
  {
   "cell_type": "code",
   "execution_count": 58,
   "metadata": {},
   "outputs": [
    {
     "data": {
      "text/plain": [
       "array([False, False,  True,  True,  True])"
      ]
     },
     "execution_count": 58,
     "metadata": {},
     "output_type": "execute_result"
    }
   ],
   "source": [
    "x >= 3  # greater than or equal"
   ]
  },
  {
   "cell_type": "code",
   "execution_count": 59,
   "metadata": {},
   "outputs": [
    {
     "data": {
      "text/plain": [
       "array([ True,  True, False,  True,  True])"
      ]
     },
     "execution_count": 59,
     "metadata": {},
     "output_type": "execute_result"
    }
   ],
   "source": [
    "x != 3  # not equal"
   ]
  },
  {
   "cell_type": "code",
   "execution_count": 60,
   "metadata": {},
   "outputs": [
    {
     "data": {
      "text/plain": [
       "array([False,  True, False, False, False])"
      ]
     },
     "execution_count": 60,
     "metadata": {},
     "output_type": "execute_result"
    }
   ],
   "source": [
    "(2 * x) == (x ** 2)"
   ]
  },
  {
   "cell_type": "code",
   "execution_count": 62,
   "metadata": {},
   "outputs": [
    {
     "data": {
      "text/plain": [
       "array([[5, 0, 3, 3],\n",
       "       [7, 9, 3, 5],\n",
       "       [2, 4, 7, 6]])"
      ]
     },
     "execution_count": 62,
     "metadata": {},
     "output_type": "execute_result"
    }
   ],
   "source": [
    "rng = np.random.RandomState(0)\n",
    "x = rng.randint(10, size=(3, 4))\n",
    "x"
   ]
  },
  {
   "cell_type": "code",
   "execution_count": 63,
   "metadata": {},
   "outputs": [
    {
     "data": {
      "text/plain": [
       "8"
      ]
     },
     "execution_count": 63,
     "metadata": {},
     "output_type": "execute_result"
    }
   ],
   "source": [
    "# how many values less than 6?\n",
    "np.count_nonzero(x < 6)"
   ]
  },
  {
   "cell_type": "code",
   "execution_count": 64,
   "metadata": {},
   "outputs": [
    {
     "data": {
      "text/plain": [
       "8"
      ]
     },
     "execution_count": 64,
     "metadata": {},
     "output_type": "execute_result"
    }
   ],
   "source": [
    "np.sum(x < 6)"
   ]
  },
  {
   "cell_type": "code",
   "execution_count": 65,
   "metadata": {},
   "outputs": [
    {
     "data": {
      "text/plain": [
       "array([4, 2, 2])"
      ]
     },
     "execution_count": 65,
     "metadata": {},
     "output_type": "execute_result"
    }
   ],
   "source": [
    "# how many values less than 6 in each row?\n",
    "np.sum(x < 6, axis=1)"
   ]
  },
  {
   "cell_type": "code",
   "execution_count": 66,
   "metadata": {},
   "outputs": [
    {
     "data": {
      "text/plain": [
       "True"
      ]
     },
     "execution_count": 66,
     "metadata": {},
     "output_type": "execute_result"
    }
   ],
   "source": [
    "# are there any values greater than 8?\n",
    "np.any(x > 8)"
   ]
  },
  {
   "cell_type": "code",
   "execution_count": 71,
   "metadata": {},
   "outputs": [
    {
     "data": {
      "text/plain": [
       "True"
      ]
     },
     "execution_count": 71,
     "metadata": {},
     "output_type": "execute_result"
    }
   ],
   "source": [
    "# are all values less than 10?\n",
    "np.all(x < 10)"
   ]
  },
  {
   "cell_type": "markdown",
   "metadata": {},
   "source": [
    "### Boolean Operators"
   ]
  },
  {
   "cell_type": "code",
   "execution_count": 73,
   "metadata": {},
   "outputs": [
    {
     "data": {
      "text/plain": [
       "10"
      ]
     },
     "execution_count": 73,
     "metadata": {},
     "output_type": "execute_result"
    }
   ],
   "source": [
    "# how many values great than 2 and less than 10?\n",
    "np.sum((x > 2) & (x < 10))"
   ]
  },
  {
   "cell_type": "code",
   "execution_count": 76,
   "metadata": {},
   "outputs": [
    {
     "data": {
      "text/plain": [
       "12"
      ]
     },
     "execution_count": 76,
     "metadata": {},
     "output_type": "execute_result"
    }
   ],
   "source": [
    "# how many values great than 2 or less than 10?\n",
    "np.sum((x > 2) | (x < 10))"
   ]
  },
  {
   "cell_type": "markdown",
   "metadata": {},
   "source": [
    "### Boolean Arrays as Masks"
   ]
  },
  {
   "cell_type": "code",
   "execution_count": 77,
   "metadata": {},
   "outputs": [
    {
     "data": {
      "text/plain": [
       "array([0, 3, 3, 3, 2, 4])"
      ]
     },
     "execution_count": 77,
     "metadata": {},
     "output_type": "execute_result"
    }
   ],
   "source": [
    "x[x < 5]"
   ]
  },
  {
   "cell_type": "markdown",
   "metadata": {},
   "source": [
    "### Fancy Indexing"
   ]
  },
  {
   "cell_type": "code",
   "execution_count": 78,
   "metadata": {},
   "outputs": [
    {
     "data": {
      "text/plain": [
       "array([51, 92, 14, 71, 60, 20, 82, 86, 74, 74])"
      ]
     },
     "execution_count": 78,
     "metadata": {},
     "output_type": "execute_result"
    }
   ],
   "source": [
    "rand = np.random.RandomState(42)\n",
    "\n",
    "x = rand.randint(100, size=10)\n",
    "x"
   ]
  },
  {
   "cell_type": "code",
   "execution_count": 80,
   "metadata": {},
   "outputs": [
    {
     "data": {
      "text/plain": [
       "[71, 86, 14]"
      ]
     },
     "execution_count": 80,
     "metadata": {},
     "output_type": "execute_result"
    }
   ],
   "source": [
    "# Suppose we want to access three different elements. We could do it like this:\n",
    "[x[3], x[7], x[2]]"
   ]
  },
  {
   "cell_type": "code",
   "execution_count": 79,
   "metadata": {},
   "outputs": [
    {
     "data": {
      "text/plain": [
       "array([71, 86, 60])"
      ]
     },
     "execution_count": 79,
     "metadata": {},
     "output_type": "execute_result"
    }
   ],
   "source": [
    "# Alternatively, we can pass a single list or array of indices to obtain the same result:\n",
    "ind = [3, 7, 4]\n",
    "x[ind]"
   ]
  },
  {
   "cell_type": "markdown",
   "metadata": {},
   "source": [
    "#### More fancy indexing, selecting random points, modifying values and binning data."
   ]
  },
  {
   "cell_type": "code",
   "execution_count": 2,
   "metadata": {},
   "outputs": [
    {
     "data": {
      "text/html": [
       "<div>\n",
       "<style scoped>\n",
       "    .dataframe tbody tr th:only-of-type {\n",
       "        vertical-align: middle;\n",
       "    }\n",
       "\n",
       "    .dataframe tbody tr th {\n",
       "        vertical-align: top;\n",
       "    }\n",
       "\n",
       "    .dataframe thead th {\n",
       "        text-align: right;\n",
       "    }\n",
       "</style>\n",
       "<table border=\"1\" class=\"dataframe\">\n",
       "  <thead>\n",
       "    <tr style=\"text-align: right;\">\n",
       "      <th></th>\n",
       "      <th>Symbol</th>\n",
       "      <th>Date</th>\n",
       "      <th>Close</th>\n",
       "      <th>High</th>\n",
       "      <th>Low</th>\n",
       "      <th>Open</th>\n",
       "      <th>Volume</th>\n",
       "    </tr>\n",
       "  </thead>\n",
       "  <tbody>\n",
       "    <tr>\n",
       "      <th>0</th>\n",
       "      <td>aapl</td>\n",
       "      <td>2016-01-01</td>\n",
       "      <td>105.26</td>\n",
       "      <td>105.2600</td>\n",
       "      <td>105.2600</td>\n",
       "      <td>105.2600</td>\n",
       "      <td>0</td>\n",
       "    </tr>\n",
       "    <tr>\n",
       "      <th>1</th>\n",
       "      <td>aapl</td>\n",
       "      <td>2016-01-04</td>\n",
       "      <td>105.35</td>\n",
       "      <td>105.3680</td>\n",
       "      <td>102.0000</td>\n",
       "      <td>102.6100</td>\n",
       "      <td>67649387</td>\n",
       "    </tr>\n",
       "    <tr>\n",
       "      <th>2</th>\n",
       "      <td>aapl</td>\n",
       "      <td>2016-01-05</td>\n",
       "      <td>102.71</td>\n",
       "      <td>105.8500</td>\n",
       "      <td>102.4100</td>\n",
       "      <td>105.7500</td>\n",
       "      <td>55790992</td>\n",
       "    </tr>\n",
       "    <tr>\n",
       "      <th>3</th>\n",
       "      <td>aapl</td>\n",
       "      <td>2016-01-06</td>\n",
       "      <td>100.70</td>\n",
       "      <td>102.3700</td>\n",
       "      <td>99.8700</td>\n",
       "      <td>100.5600</td>\n",
       "      <td>68457388</td>\n",
       "    </tr>\n",
       "    <tr>\n",
       "      <th>4</th>\n",
       "      <td>aapl</td>\n",
       "      <td>2016-01-07</td>\n",
       "      <td>96.45</td>\n",
       "      <td>100.1300</td>\n",
       "      <td>96.4300</td>\n",
       "      <td>98.6800</td>\n",
       "      <td>81094428</td>\n",
       "    </tr>\n",
       "    <tr>\n",
       "      <th>5</th>\n",
       "      <td>aapl</td>\n",
       "      <td>2016-01-08</td>\n",
       "      <td>96.96</td>\n",
       "      <td>99.1100</td>\n",
       "      <td>96.7600</td>\n",
       "      <td>98.5500</td>\n",
       "      <td>70798016</td>\n",
       "    </tr>\n",
       "    <tr>\n",
       "      <th>6</th>\n",
       "      <td>aapl</td>\n",
       "      <td>2016-01-11</td>\n",
       "      <td>98.53</td>\n",
       "      <td>99.0600</td>\n",
       "      <td>97.3400</td>\n",
       "      <td>98.9700</td>\n",
       "      <td>49739377</td>\n",
       "    </tr>\n",
       "    <tr>\n",
       "      <th>7</th>\n",
       "      <td>aapl</td>\n",
       "      <td>2016-01-12</td>\n",
       "      <td>99.96</td>\n",
       "      <td>100.6900</td>\n",
       "      <td>98.8399</td>\n",
       "      <td>100.5500</td>\n",
       "      <td>49154227</td>\n",
       "    </tr>\n",
       "    <tr>\n",
       "      <th>8</th>\n",
       "      <td>aapl</td>\n",
       "      <td>2016-01-13</td>\n",
       "      <td>97.39</td>\n",
       "      <td>101.1900</td>\n",
       "      <td>97.3000</td>\n",
       "      <td>100.3200</td>\n",
       "      <td>62439631</td>\n",
       "    </tr>\n",
       "    <tr>\n",
       "      <th>9</th>\n",
       "      <td>aapl</td>\n",
       "      <td>2016-01-14</td>\n",
       "      <td>99.52</td>\n",
       "      <td>100.4800</td>\n",
       "      <td>95.7400</td>\n",
       "      <td>97.9600</td>\n",
       "      <td>63170127</td>\n",
       "    </tr>\n",
       "    <tr>\n",
       "      <th>10</th>\n",
       "      <td>aapl</td>\n",
       "      <td>2016-01-15</td>\n",
       "      <td>97.13</td>\n",
       "      <td>97.7100</td>\n",
       "      <td>95.3600</td>\n",
       "      <td>96.2000</td>\n",
       "      <td>79833891</td>\n",
       "    </tr>\n",
       "    <tr>\n",
       "      <th>11</th>\n",
       "      <td>aapl</td>\n",
       "      <td>2016-01-18</td>\n",
       "      <td>97.13</td>\n",
       "      <td>97.1300</td>\n",
       "      <td>97.1300</td>\n",
       "      <td>97.1300</td>\n",
       "      <td>0</td>\n",
       "    </tr>\n",
       "    <tr>\n",
       "      <th>12</th>\n",
       "      <td>aapl</td>\n",
       "      <td>2016-01-19</td>\n",
       "      <td>96.66</td>\n",
       "      <td>98.6500</td>\n",
       "      <td>95.5000</td>\n",
       "      <td>98.4100</td>\n",
       "      <td>53087747</td>\n",
       "    </tr>\n",
       "    <tr>\n",
       "      <th>13</th>\n",
       "      <td>aapl</td>\n",
       "      <td>2016-01-20</td>\n",
       "      <td>96.79</td>\n",
       "      <td>98.1897</td>\n",
       "      <td>93.4200</td>\n",
       "      <td>95.1000</td>\n",
       "      <td>72334416</td>\n",
       "    </tr>\n",
       "    <tr>\n",
       "      <th>14</th>\n",
       "      <td>aapl</td>\n",
       "      <td>2016-01-21</td>\n",
       "      <td>96.30</td>\n",
       "      <td>97.8800</td>\n",
       "      <td>94.9400</td>\n",
       "      <td>97.0600</td>\n",
       "      <td>52161463</td>\n",
       "    </tr>\n",
       "    <tr>\n",
       "      <th>15</th>\n",
       "      <td>aapl</td>\n",
       "      <td>2016-01-22</td>\n",
       "      <td>101.42</td>\n",
       "      <td>101.4600</td>\n",
       "      <td>98.3700</td>\n",
       "      <td>98.6300</td>\n",
       "      <td>65800467</td>\n",
       "    </tr>\n",
       "    <tr>\n",
       "      <th>16</th>\n",
       "      <td>aapl</td>\n",
       "      <td>2016-01-25</td>\n",
       "      <td>99.44</td>\n",
       "      <td>101.5300</td>\n",
       "      <td>99.2100</td>\n",
       "      <td>101.5200</td>\n",
       "      <td>51794525</td>\n",
       "    </tr>\n",
       "    <tr>\n",
       "      <th>17</th>\n",
       "      <td>aapl</td>\n",
       "      <td>2016-01-26</td>\n",
       "      <td>99.99</td>\n",
       "      <td>100.8800</td>\n",
       "      <td>98.0700</td>\n",
       "      <td>99.9300</td>\n",
       "      <td>75077002</td>\n",
       "    </tr>\n",
       "    <tr>\n",
       "      <th>18</th>\n",
       "      <td>aapl</td>\n",
       "      <td>2016-01-27</td>\n",
       "      <td>93.42</td>\n",
       "      <td>96.6289</td>\n",
       "      <td>93.3400</td>\n",
       "      <td>96.0400</td>\n",
       "      <td>133369674</td>\n",
       "    </tr>\n",
       "    <tr>\n",
       "      <th>19</th>\n",
       "      <td>aapl</td>\n",
       "      <td>2016-01-28</td>\n",
       "      <td>94.09</td>\n",
       "      <td>94.5200</td>\n",
       "      <td>92.3900</td>\n",
       "      <td>93.7900</td>\n",
       "      <td>55678825</td>\n",
       "    </tr>\n",
       "    <tr>\n",
       "      <th>20</th>\n",
       "      <td>aapl</td>\n",
       "      <td>2016-01-29</td>\n",
       "      <td>97.34</td>\n",
       "      <td>97.3400</td>\n",
       "      <td>94.3500</td>\n",
       "      <td>94.7900</td>\n",
       "      <td>64416504</td>\n",
       "    </tr>\n",
       "    <tr>\n",
       "      <th>21</th>\n",
       "      <td>aapl</td>\n",
       "      <td>2016-02-01</td>\n",
       "      <td>96.43</td>\n",
       "      <td>96.7100</td>\n",
       "      <td>95.4000</td>\n",
       "      <td>96.4700</td>\n",
       "      <td>40943541</td>\n",
       "    </tr>\n",
       "    <tr>\n",
       "      <th>22</th>\n",
       "      <td>aapl</td>\n",
       "      <td>2016-02-02</td>\n",
       "      <td>94.48</td>\n",
       "      <td>96.0400</td>\n",
       "      <td>94.2800</td>\n",
       "      <td>95.4200</td>\n",
       "      <td>37357215</td>\n",
       "    </tr>\n",
       "    <tr>\n",
       "      <th>23</th>\n",
       "      <td>aapl</td>\n",
       "      <td>2016-02-03</td>\n",
       "      <td>96.35</td>\n",
       "      <td>96.8400</td>\n",
       "      <td>94.0800</td>\n",
       "      <td>95.0000</td>\n",
       "      <td>45964294</td>\n",
       "    </tr>\n",
       "    <tr>\n",
       "      <th>24</th>\n",
       "      <td>aapl</td>\n",
       "      <td>2016-02-04</td>\n",
       "      <td>96.60</td>\n",
       "      <td>97.3300</td>\n",
       "      <td>95.1900</td>\n",
       "      <td>95.8600</td>\n",
       "      <td>46471652</td>\n",
       "    </tr>\n",
       "    <tr>\n",
       "      <th>25</th>\n",
       "      <td>aapl</td>\n",
       "      <td>2016-02-05</td>\n",
       "      <td>94.02</td>\n",
       "      <td>96.9200</td>\n",
       "      <td>93.6900</td>\n",
       "      <td>96.5200</td>\n",
       "      <td>46418064</td>\n",
       "    </tr>\n",
       "    <tr>\n",
       "      <th>26</th>\n",
       "      <td>aapl</td>\n",
       "      <td>2016-02-08</td>\n",
       "      <td>95.01</td>\n",
       "      <td>95.7000</td>\n",
       "      <td>93.0400</td>\n",
       "      <td>93.1300</td>\n",
       "      <td>54021375</td>\n",
       "    </tr>\n",
       "    <tr>\n",
       "      <th>27</th>\n",
       "      <td>aapl</td>\n",
       "      <td>2016-02-09</td>\n",
       "      <td>94.99</td>\n",
       "      <td>95.9400</td>\n",
       "      <td>93.9300</td>\n",
       "      <td>94.2900</td>\n",
       "      <td>44331195</td>\n",
       "    </tr>\n",
       "    <tr>\n",
       "      <th>28</th>\n",
       "      <td>aapl</td>\n",
       "      <td>2016-02-10</td>\n",
       "      <td>94.27</td>\n",
       "      <td>96.3500</td>\n",
       "      <td>94.1000</td>\n",
       "      <td>95.9200</td>\n",
       "      <td>42343601</td>\n",
       "    </tr>\n",
       "    <tr>\n",
       "      <th>29</th>\n",
       "      <td>aapl</td>\n",
       "      <td>2016-02-11</td>\n",
       "      <td>93.70</td>\n",
       "      <td>94.7200</td>\n",
       "      <td>92.5900</td>\n",
       "      <td>93.7900</td>\n",
       "      <td>50074711</td>\n",
       "    </tr>\n",
       "    <tr>\n",
       "      <th>...</th>\n",
       "      <td>...</td>\n",
       "      <td>...</td>\n",
       "      <td>...</td>\n",
       "      <td>...</td>\n",
       "      <td>...</td>\n",
       "      <td>...</td>\n",
       "      <td>...</td>\n",
       "    </tr>\n",
       "    <tr>\n",
       "      <th>608</th>\n",
       "      <td>aapl</td>\n",
       "      <td>2018-05-02</td>\n",
       "      <td>176.57</td>\n",
       "      <td>177.7500</td>\n",
       "      <td>173.8000</td>\n",
       "      <td>175.2250</td>\n",
       "      <td>66539371</td>\n",
       "    </tr>\n",
       "    <tr>\n",
       "      <th>609</th>\n",
       "      <td>aapl</td>\n",
       "      <td>2018-05-03</td>\n",
       "      <td>176.89</td>\n",
       "      <td>177.5000</td>\n",
       "      <td>174.4411</td>\n",
       "      <td>175.8800</td>\n",
       "      <td>34068180</td>\n",
       "    </tr>\n",
       "    <tr>\n",
       "      <th>610</th>\n",
       "      <td>aapl</td>\n",
       "      <td>2018-05-04</td>\n",
       "      <td>183.83</td>\n",
       "      <td>184.2500</td>\n",
       "      <td>178.1700</td>\n",
       "      <td>178.2500</td>\n",
       "      <td>56201317</td>\n",
       "    </tr>\n",
       "    <tr>\n",
       "      <th>611</th>\n",
       "      <td>aapl</td>\n",
       "      <td>2018-05-07</td>\n",
       "      <td>185.16</td>\n",
       "      <td>187.6700</td>\n",
       "      <td>184.7500</td>\n",
       "      <td>185.1800</td>\n",
       "      <td>42451423</td>\n",
       "    </tr>\n",
       "    <tr>\n",
       "      <th>612</th>\n",
       "      <td>aapl</td>\n",
       "      <td>2018-05-08</td>\n",
       "      <td>186.05</td>\n",
       "      <td>186.2200</td>\n",
       "      <td>183.6650</td>\n",
       "      <td>184.9900</td>\n",
       "      <td>28402777</td>\n",
       "    </tr>\n",
       "    <tr>\n",
       "      <th>613</th>\n",
       "      <td>aapl</td>\n",
       "      <td>2018-05-09</td>\n",
       "      <td>187.36</td>\n",
       "      <td>187.4000</td>\n",
       "      <td>185.2200</td>\n",
       "      <td>186.5500</td>\n",
       "      <td>23211241</td>\n",
       "    </tr>\n",
       "    <tr>\n",
       "      <th>614</th>\n",
       "      <td>aapl</td>\n",
       "      <td>2018-05-10</td>\n",
       "      <td>190.04</td>\n",
       "      <td>190.3700</td>\n",
       "      <td>187.6500</td>\n",
       "      <td>187.7400</td>\n",
       "      <td>27989289</td>\n",
       "    </tr>\n",
       "    <tr>\n",
       "      <th>615</th>\n",
       "      <td>aapl</td>\n",
       "      <td>2018-05-11</td>\n",
       "      <td>188.59</td>\n",
       "      <td>190.0600</td>\n",
       "      <td>187.4500</td>\n",
       "      <td>189.4900</td>\n",
       "      <td>26212221</td>\n",
       "    </tr>\n",
       "    <tr>\n",
       "      <th>616</th>\n",
       "      <td>aapl</td>\n",
       "      <td>2018-05-14</td>\n",
       "      <td>188.15</td>\n",
       "      <td>189.5300</td>\n",
       "      <td>187.8600</td>\n",
       "      <td>189.0100</td>\n",
       "      <td>20778772</td>\n",
       "    </tr>\n",
       "    <tr>\n",
       "      <th>617</th>\n",
       "      <td>aapl</td>\n",
       "      <td>2018-05-15</td>\n",
       "      <td>186.44</td>\n",
       "      <td>187.0700</td>\n",
       "      <td>185.1000</td>\n",
       "      <td>186.7800</td>\n",
       "      <td>23695159</td>\n",
       "    </tr>\n",
       "    <tr>\n",
       "      <th>618</th>\n",
       "      <td>aapl</td>\n",
       "      <td>2018-05-16</td>\n",
       "      <td>188.18</td>\n",
       "      <td>188.4600</td>\n",
       "      <td>186.0000</td>\n",
       "      <td>186.0700</td>\n",
       "      <td>19183064</td>\n",
       "    </tr>\n",
       "    <tr>\n",
       "      <th>619</th>\n",
       "      <td>aapl</td>\n",
       "      <td>2018-05-17</td>\n",
       "      <td>186.99</td>\n",
       "      <td>188.9100</td>\n",
       "      <td>186.3600</td>\n",
       "      <td>188.0000</td>\n",
       "      <td>17294029</td>\n",
       "    </tr>\n",
       "    <tr>\n",
       "      <th>620</th>\n",
       "      <td>aapl</td>\n",
       "      <td>2018-05-18</td>\n",
       "      <td>186.31</td>\n",
       "      <td>187.8102</td>\n",
       "      <td>186.1300</td>\n",
       "      <td>187.1900</td>\n",
       "      <td>18297728</td>\n",
       "    </tr>\n",
       "    <tr>\n",
       "      <th>621</th>\n",
       "      <td>aapl</td>\n",
       "      <td>2018-05-21</td>\n",
       "      <td>187.63</td>\n",
       "      <td>189.2700</td>\n",
       "      <td>186.9106</td>\n",
       "      <td>188.0000</td>\n",
       "      <td>18400787</td>\n",
       "    </tr>\n",
       "    <tr>\n",
       "      <th>622</th>\n",
       "      <td>aapl</td>\n",
       "      <td>2018-05-22</td>\n",
       "      <td>187.16</td>\n",
       "      <td>188.8800</td>\n",
       "      <td>186.7800</td>\n",
       "      <td>188.3750</td>\n",
       "      <td>15240704</td>\n",
       "    </tr>\n",
       "    <tr>\n",
       "      <th>623</th>\n",
       "      <td>aapl</td>\n",
       "      <td>2018-05-23</td>\n",
       "      <td>188.36</td>\n",
       "      <td>188.5000</td>\n",
       "      <td>185.7600</td>\n",
       "      <td>186.3500</td>\n",
       "      <td>20058415</td>\n",
       "    </tr>\n",
       "    <tr>\n",
       "      <th>624</th>\n",
       "      <td>aapl</td>\n",
       "      <td>2018-05-24</td>\n",
       "      <td>188.15</td>\n",
       "      <td>188.8400</td>\n",
       "      <td>186.2100</td>\n",
       "      <td>188.7700</td>\n",
       "      <td>20330134</td>\n",
       "    </tr>\n",
       "    <tr>\n",
       "      <th>625</th>\n",
       "      <td>aapl</td>\n",
       "      <td>2018-05-25</td>\n",
       "      <td>188.58</td>\n",
       "      <td>189.6500</td>\n",
       "      <td>187.6500</td>\n",
       "      <td>188.2300</td>\n",
       "      <td>17460963</td>\n",
       "    </tr>\n",
       "    <tr>\n",
       "      <th>626</th>\n",
       "      <td>aapl</td>\n",
       "      <td>2018-05-28</td>\n",
       "      <td>188.58</td>\n",
       "      <td>188.5800</td>\n",
       "      <td>188.5800</td>\n",
       "      <td>188.5800</td>\n",
       "      <td>0</td>\n",
       "    </tr>\n",
       "    <tr>\n",
       "      <th>627</th>\n",
       "      <td>aapl</td>\n",
       "      <td>2018-05-29</td>\n",
       "      <td>187.90</td>\n",
       "      <td>188.7500</td>\n",
       "      <td>186.8700</td>\n",
       "      <td>187.6000</td>\n",
       "      <td>22514075</td>\n",
       "    </tr>\n",
       "    <tr>\n",
       "      <th>628</th>\n",
       "      <td>aapl</td>\n",
       "      <td>2018-05-30</td>\n",
       "      <td>187.50</td>\n",
       "      <td>188.0000</td>\n",
       "      <td>186.7800</td>\n",
       "      <td>187.7200</td>\n",
       "      <td>18430891</td>\n",
       "    </tr>\n",
       "    <tr>\n",
       "      <th>629</th>\n",
       "      <td>aapl</td>\n",
       "      <td>2018-05-31</td>\n",
       "      <td>186.87</td>\n",
       "      <td>188.2300</td>\n",
       "      <td>186.1400</td>\n",
       "      <td>187.2200</td>\n",
       "      <td>26884365</td>\n",
       "    </tr>\n",
       "    <tr>\n",
       "      <th>630</th>\n",
       "      <td>aapl</td>\n",
       "      <td>2018-06-01</td>\n",
       "      <td>190.24</td>\n",
       "      <td>190.2600</td>\n",
       "      <td>187.7500</td>\n",
       "      <td>187.9912</td>\n",
       "      <td>23442510</td>\n",
       "    </tr>\n",
       "    <tr>\n",
       "      <th>631</th>\n",
       "      <td>aapl</td>\n",
       "      <td>2018-06-04</td>\n",
       "      <td>191.83</td>\n",
       "      <td>193.4200</td>\n",
       "      <td>191.3500</td>\n",
       "      <td>191.6350</td>\n",
       "      <td>26266174</td>\n",
       "    </tr>\n",
       "    <tr>\n",
       "      <th>632</th>\n",
       "      <td>aapl</td>\n",
       "      <td>2018-06-05</td>\n",
       "      <td>193.31</td>\n",
       "      <td>193.9400</td>\n",
       "      <td>192.3600</td>\n",
       "      <td>193.0650</td>\n",
       "      <td>21565963</td>\n",
       "    </tr>\n",
       "    <tr>\n",
       "      <th>633</th>\n",
       "      <td>aapl</td>\n",
       "      <td>2018-06-06</td>\n",
       "      <td>193.98</td>\n",
       "      <td>194.0800</td>\n",
       "      <td>191.9200</td>\n",
       "      <td>193.6300</td>\n",
       "      <td>20933619</td>\n",
       "    </tr>\n",
       "    <tr>\n",
       "      <th>634</th>\n",
       "      <td>aapl</td>\n",
       "      <td>2018-06-07</td>\n",
       "      <td>193.46</td>\n",
       "      <td>194.2000</td>\n",
       "      <td>192.3350</td>\n",
       "      <td>194.1400</td>\n",
       "      <td>21347180</td>\n",
       "    </tr>\n",
       "    <tr>\n",
       "      <th>635</th>\n",
       "      <td>aapl</td>\n",
       "      <td>2018-06-08</td>\n",
       "      <td>191.70</td>\n",
       "      <td>192.0000</td>\n",
       "      <td>189.7700</td>\n",
       "      <td>191.1700</td>\n",
       "      <td>26656799</td>\n",
       "    </tr>\n",
       "    <tr>\n",
       "      <th>636</th>\n",
       "      <td>aapl</td>\n",
       "      <td>2018-06-11</td>\n",
       "      <td>191.23</td>\n",
       "      <td>191.9700</td>\n",
       "      <td>190.2100</td>\n",
       "      <td>191.3500</td>\n",
       "      <td>18308460</td>\n",
       "    </tr>\n",
       "    <tr>\n",
       "      <th>637</th>\n",
       "      <td>aapl</td>\n",
       "      <td>2018-06-12</td>\n",
       "      <td>192.28</td>\n",
       "      <td>192.6110</td>\n",
       "      <td>191.1500</td>\n",
       "      <td>191.3850</td>\n",
       "      <td>16814981</td>\n",
       "    </tr>\n",
       "  </tbody>\n",
       "</table>\n",
       "<p>638 rows × 7 columns</p>\n",
       "</div>"
      ],
      "text/plain": [
       "    Symbol       Date   Close      High       Low      Open     Volume\n",
       "0     aapl 2016-01-01  105.26  105.2600  105.2600  105.2600          0\n",
       "1     aapl 2016-01-04  105.35  105.3680  102.0000  102.6100   67649387\n",
       "2     aapl 2016-01-05  102.71  105.8500  102.4100  105.7500   55790992\n",
       "3     aapl 2016-01-06  100.70  102.3700   99.8700  100.5600   68457388\n",
       "4     aapl 2016-01-07   96.45  100.1300   96.4300   98.6800   81094428\n",
       "5     aapl 2016-01-08   96.96   99.1100   96.7600   98.5500   70798016\n",
       "6     aapl 2016-01-11   98.53   99.0600   97.3400   98.9700   49739377\n",
       "7     aapl 2016-01-12   99.96  100.6900   98.8399  100.5500   49154227\n",
       "8     aapl 2016-01-13   97.39  101.1900   97.3000  100.3200   62439631\n",
       "9     aapl 2016-01-14   99.52  100.4800   95.7400   97.9600   63170127\n",
       "10    aapl 2016-01-15   97.13   97.7100   95.3600   96.2000   79833891\n",
       "11    aapl 2016-01-18   97.13   97.1300   97.1300   97.1300          0\n",
       "12    aapl 2016-01-19   96.66   98.6500   95.5000   98.4100   53087747\n",
       "13    aapl 2016-01-20   96.79   98.1897   93.4200   95.1000   72334416\n",
       "14    aapl 2016-01-21   96.30   97.8800   94.9400   97.0600   52161463\n",
       "15    aapl 2016-01-22  101.42  101.4600   98.3700   98.6300   65800467\n",
       "16    aapl 2016-01-25   99.44  101.5300   99.2100  101.5200   51794525\n",
       "17    aapl 2016-01-26   99.99  100.8800   98.0700   99.9300   75077002\n",
       "18    aapl 2016-01-27   93.42   96.6289   93.3400   96.0400  133369674\n",
       "19    aapl 2016-01-28   94.09   94.5200   92.3900   93.7900   55678825\n",
       "20    aapl 2016-01-29   97.34   97.3400   94.3500   94.7900   64416504\n",
       "21    aapl 2016-02-01   96.43   96.7100   95.4000   96.4700   40943541\n",
       "22    aapl 2016-02-02   94.48   96.0400   94.2800   95.4200   37357215\n",
       "23    aapl 2016-02-03   96.35   96.8400   94.0800   95.0000   45964294\n",
       "24    aapl 2016-02-04   96.60   97.3300   95.1900   95.8600   46471652\n",
       "25    aapl 2016-02-05   94.02   96.9200   93.6900   96.5200   46418064\n",
       "26    aapl 2016-02-08   95.01   95.7000   93.0400   93.1300   54021375\n",
       "27    aapl 2016-02-09   94.99   95.9400   93.9300   94.2900   44331195\n",
       "28    aapl 2016-02-10   94.27   96.3500   94.1000   95.9200   42343601\n",
       "29    aapl 2016-02-11   93.70   94.7200   92.5900   93.7900   50074711\n",
       "..     ...        ...     ...       ...       ...       ...        ...\n",
       "608   aapl 2018-05-02  176.57  177.7500  173.8000  175.2250   66539371\n",
       "609   aapl 2018-05-03  176.89  177.5000  174.4411  175.8800   34068180\n",
       "610   aapl 2018-05-04  183.83  184.2500  178.1700  178.2500   56201317\n",
       "611   aapl 2018-05-07  185.16  187.6700  184.7500  185.1800   42451423\n",
       "612   aapl 2018-05-08  186.05  186.2200  183.6650  184.9900   28402777\n",
       "613   aapl 2018-05-09  187.36  187.4000  185.2200  186.5500   23211241\n",
       "614   aapl 2018-05-10  190.04  190.3700  187.6500  187.7400   27989289\n",
       "615   aapl 2018-05-11  188.59  190.0600  187.4500  189.4900   26212221\n",
       "616   aapl 2018-05-14  188.15  189.5300  187.8600  189.0100   20778772\n",
       "617   aapl 2018-05-15  186.44  187.0700  185.1000  186.7800   23695159\n",
       "618   aapl 2018-05-16  188.18  188.4600  186.0000  186.0700   19183064\n",
       "619   aapl 2018-05-17  186.99  188.9100  186.3600  188.0000   17294029\n",
       "620   aapl 2018-05-18  186.31  187.8102  186.1300  187.1900   18297728\n",
       "621   aapl 2018-05-21  187.63  189.2700  186.9106  188.0000   18400787\n",
       "622   aapl 2018-05-22  187.16  188.8800  186.7800  188.3750   15240704\n",
       "623   aapl 2018-05-23  188.36  188.5000  185.7600  186.3500   20058415\n",
       "624   aapl 2018-05-24  188.15  188.8400  186.2100  188.7700   20330134\n",
       "625   aapl 2018-05-25  188.58  189.6500  187.6500  188.2300   17460963\n",
       "626   aapl 2018-05-28  188.58  188.5800  188.5800  188.5800          0\n",
       "627   aapl 2018-05-29  187.90  188.7500  186.8700  187.6000   22514075\n",
       "628   aapl 2018-05-30  187.50  188.0000  186.7800  187.7200   18430891\n",
       "629   aapl 2018-05-31  186.87  188.2300  186.1400  187.2200   26884365\n",
       "630   aapl 2018-06-01  190.24  190.2600  187.7500  187.9912   23442510\n",
       "631   aapl 2018-06-04  191.83  193.4200  191.3500  191.6350   26266174\n",
       "632   aapl 2018-06-05  193.31  193.9400  192.3600  193.0650   21565963\n",
       "633   aapl 2018-06-06  193.98  194.0800  191.9200  193.6300   20933619\n",
       "634   aapl 2018-06-07  193.46  194.2000  192.3350  194.1400   21347180\n",
       "635   aapl 2018-06-08  191.70  192.0000  189.7700  191.1700   26656799\n",
       "636   aapl 2018-06-11  191.23  191.9700  190.2100  191.3500   18308460\n",
       "637   aapl 2018-06-12  192.28  192.6110  191.1500  191.3850   16814981\n",
       "\n",
       "[638 rows x 7 columns]"
      ]
     },
     "execution_count": 2,
     "metadata": {},
     "output_type": "execute_result"
    }
   ],
   "source": [
    "import plotly.offline as py\n",
    "import plotly.graph_objs as go\n",
    "import pandas_datareader as web\n",
    "from datetime import datetime\n",
    "\n",
    "df = web.DataReader(\"aapl\", 'morningstar', datetime(2016, 1, 1)).reset_index()\n",
    "\n",
    "trace = go.Candlestick(x=df.Date,\n",
    "                       open=df.Open,\n",
    "                       high=df.High,\n",
    "                       low=df.Low,\n",
    "                       close=df.Close)\n",
    "data = [trace]\n",
    "layout = {\n",
    "    'title': 'The Great Recession',\n",
    "    'yaxis': {'title': 'AAPL Stock'},\n",
    "    'shapes': [{\n",
    "        'x0': '2016-12-09', 'x1': '2016-12-09',\n",
    "        'y0': 0, 'y1': 1, 'xref': 'x', 'yref': 'paper',\n",
    "        'line': {'color': 'rgb(30,30,30)', 'width': 1}\n",
    "    }],\n",
    "    'annotations': [{\n",
    "        'x': '2016-12-09', 'y': 0.05, 'xref': 'x', 'yref': 'paper',\n",
    "        'showarrow': False, 'xanchor': 'left',\n",
    "        'text': 'Increase Period Begins'\n",
    "    }]\n",
    "}\n",
    "fig = dict(data=data, layout=layout)\n",
    "\n",
    "df"
   ]
  },
  {
   "cell_type": "code",
   "execution_count": null,
   "metadata": {},
   "outputs": [],
   "source": []
  },
  {
   "cell_type": "code",
   "execution_count": null,
   "metadata": {},
   "outputs": [],
   "source": []
  },
  {
   "cell_type": "code",
   "execution_count": null,
   "metadata": {},
   "outputs": [],
   "source": []
  },
  {
   "cell_type": "code",
   "execution_count": 1,
   "metadata": {},
   "outputs": [
    {
     "data": {
      "text/html": [
       "<iframe style=\"border:0;outline:none;overflow:hidden\" srcdoc=\"&lt;!DOCTYPE html&gt; &lt;html lang=&quot;en&quot;&gt; &lt;head&gt; &lt;meta charset=&quot;utf-8&quot; /&gt; &lt;link href=&quot;https://www.highcharts.com/highslide/highslide.css&quot; rel=&quot;stylesheet&quot; /&gt; &lt;script type=&quot;text/javascript&quot; src=&quot;https://ajax.googleapis.com/ajax/libs/jquery/1.9.1/jquery.min.js&quot;&gt;&lt;/script&gt; &lt;script type=&quot;text/javascript&quot; src=&quot;https://code.highcharts.com/stock/highstock.js&quot;&gt;&lt;/script&gt; &lt;script type=&quot;text/javascript&quot; src=&quot;https://code.highcharts.com/stock/modules/exporting.js&quot;&gt;&lt;/script&gt; &lt;script type=&quot;text/javascript&quot; src=&quot;https://code.highcharts.com/highcharts-more.js&quot;&gt;&lt;/script&gt; &lt;/head&gt; &lt;body style=&quot;margin:0;padding:0&quot;&gt; &lt;div id=&quot;container&quot; style=&quot;&quot;&gt;Loading....&lt;/div&gt; &lt;script&gt; $(function(){ Highcharts.setOptions({&quot;global&quot;: {}, &quot;lang&quot;: {}}); var option = {&quot;chart&quot;: {&quot;renderTo&quot;: &quot;container&quot;}, &quot;colors&quot;: {}, &quot;credits&quot;: {&quot;enabled&quot;: false}, &quot;exporting&quot;: {}, &quot;labels&quot;: {}, &quot;legend&quot;: {}, &quot;loading&quot;: {}, &quot;navigation&quot;: {}, &quot;navigator&quot;: {}, &quot;plotOptions&quot;: {}, &quot;rangeSelector&quot;: {&quot;selected&quot;: 1}, &quot;scrollbar&quot;: {}, &quot;series&quot;: {}, &quot;subtitle&quot;: {}, &quot;title&quot;: {&quot;text&quot;: &quot;AAPL Stock Price&quot;}, &quot;tooltip&quot;: {}, &quot;xAxis&quot;: {}, &quot;yAxis&quot;: {}}; var chart = new Highcharts.StockChart(option); $.getJSON(&quot;http://www.highcharts.com/samples/data/jsonp.php?filename=aapl-c.json&amp;callback=?&quot;, function (json_data) { chart.addSeries({&quot;data&quot;: json_data, &quot;type&quot;: &quot;line&quot;, &quot;name&quot;: &quot;AAPL&quot;, &quot;tooltip&quot;: {&quot;valueDecimals&quot;: 2}}); }); }); &lt;/script&gt; &lt;/body&gt; &lt;/html&gt;\" height=520 width=820></iframe>"
      ],
      "text/plain": [
       "<highcharts.highstock.highstock.Highstock at 0x10ab60e10>"
      ]
     },
     "execution_count": 1,
     "metadata": {},
     "output_type": "execute_result"
    }
   ],
   "source": [
    "from highcharts import Highstock\n",
    "from highcharts.highstock.highstock_helper import jsonp_loader\n",
    "H = Highstock()\n",
    "\n",
    "data_url = 'http://www.highcharts.com/samples/data/jsonp.php?filename=aapl-c.json&callback=?'\n",
    "H.add_data_from_jsonp(data_url, 'json_data', 'line', 'AAPL', tooltip = {\n",
    "    'valueDecimals': 2\n",
    "    }\n",
    ")\n",
    "\n",
    "options = {\n",
    "    'rangeSelector' : {\n",
    "            'selected' : 1\n",
    "        },\n",
    "\n",
    "    'title' : {\n",
    "        'text' : 'AAPL Stock Price'\n",
    "    },\n",
    "}f\n",
    "H.set_dict_options(options)\n",
    "\n",
    "H"
   ]
  },
  {
   "cell_type": "code",
   "execution_count": null,
   "metadata": {},
   "outputs": [],
   "source": []
  }
 ],
 "metadata": {
  "kernelspec": {
   "display_name": "Python 3",
   "language": "python",
   "name": "python3"
  },
  "language_info": {
   "codemirror_mode": {
    "name": "ipython",
    "version": 3
   },
   "file_extension": ".py",
   "mimetype": "text/x-python",
   "name": "python",
   "nbconvert_exporter": "python",
   "pygments_lexer": "ipython3",
   "version": "3.6.4"
  }
 },
 "nbformat": 4,
 "nbformat_minor": 2
}
